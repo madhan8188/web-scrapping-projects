{
 "cells": [
  {
   "cell_type": "code",
   "execution_count": 20,
   "id": "7b9c4d83",
   "metadata": {},
   "outputs": [],
   "source": [
    "from selenium import webdriver\n",
    "import time\n",
    "from bs4 import BeautifulSoup as bs\n",
    "import pandas as pd\n",
    "count = 30\n",
    "options = webdriver.ChromeOptions()\n",
    "options.add_argument('--ignore-certificate-errors')\n",
    "options.add_argument(\"--test-type\")\n",
    "driver = webdriver.Chrome(executable_path = r'C:\\Users\\madha\\Desktop\\chromedriver_win32\\chromedriver.exe')"
   ]
  },
  {
   "cell_type": "code",
   "execution_count": 4,
   "id": "4f3938f4",
   "metadata": {},
   "outputs": [],
   "source": [
    "baseurl = \"https://forums.hardwarezone.com.sg/whats-new/posts/378914/\""
   ]
  },
  {
   "cell_type": "code",
   "execution_count": 5,
   "id": "bb6cdd2f",
   "metadata": {},
   "outputs": [],
   "source": [
    "driver.get(baseurl)"
   ]
  },
  {
   "cell_type": "code",
   "execution_count": 6,
   "id": "acbec3fa",
   "metadata": {},
   "outputs": [],
   "source": [
    "content = driver.page_source"
   ]
  },
  {
   "cell_type": "code",
   "execution_count": 7,
   "id": "2813e61b",
   "metadata": {},
   "outputs": [],
   "source": [
    "soup=bs(content,'html.parser')"
   ]
  },
  {
   "cell_type": "code",
   "execution_count": 8,
   "id": "d9012c36",
   "metadata": {},
   "outputs": [],
   "source": [
    "ur = soup.find_all('div',class_='structItem-title')"
   ]
  },
  {
   "cell_type": "code",
   "execution_count": 9,
   "id": "8ed9a7c0",
   "metadata": {},
   "outputs": [
    {
     "data": {
      "text/plain": [
       "[<div class=\"structItem-title\">\n",
       " <a class=\"\" data-preview-url=\"/threads/will-phase-2-be-extended.6570896/preview\" data-tp-primary=\"on\" data-xf-init=\"preview-tooltip\" href=\"/threads/will-phase-2-be-extended.6570896/\" id=\"js-XFUniqueId12\">Will Phase 2 be extended???</a>\n",
       " </div>,\n",
       " <div class=\"structItem-title\">\n",
       " <a class=\"\" data-preview-url=\"/threads/why-property-agent-always-say-buy-house-must-be-happy.6570899/preview\" data-tp-primary=\"on\" data-xf-init=\"preview-tooltip\" href=\"/threads/why-property-agent-always-say-buy-house-must-be-happy.6570899/\" id=\"js-XFUniqueId18\">Why Property Agent always say buy house must be happy</a>\n",
       " </div>,\n",
       " <div class=\"structItem-title\">\n",
       " <a class=\"\" data-preview-url=\"/threads/pm-lees-national-day-message-to-be-broadcast-on-aug-8.6570901/preview\" data-tp-primary=\"on\" data-xf-init=\"preview-tooltip\" href=\"/threads/pm-lees-national-day-message-to-be-broadcast-on-aug-8.6570901/\" id=\"js-XFUniqueId24\">PM Lee's National Day message to be broadcast on Aug 8</a>\n",
       " </div>,\n",
       " <div class=\"structItem-title\">\n",
       " <a class=\"\" data-preview-url=\"/threads/royal-caribbean-quantum-of-the-seas.5941562/preview\" data-tp-primary=\"on\" data-xf-init=\"preview-tooltip\" href=\"/threads/royal-caribbean-quantum-of-the-seas.5941562/\" id=\"js-XFUniqueId30\">Royal Caribbean - Quantum of the Seas</a>\n",
       " </div>,\n",
       " <div class=\"structItem-title\">\n",
       " <a class=\"\" data-preview-url=\"/threads/those-who-say-buy-rolex-or-expensive-accessories-for-what.6570866/preview\" data-tp-primary=\"on\" data-xf-init=\"preview-tooltip\" href=\"/threads/those-who-say-buy-rolex-or-expensive-accessories-for-what.6570866/\" id=\"js-XFUniqueId36\">Those who say buy rolex or expensive accessories for what</a>\n",
       " </div>,\n",
       " <div class=\"structItem-title\">\n",
       " <a class=\"\" data-preview-url=\"/threads/yahallo.6472947/preview\" data-tp-primary=\"on\" data-xf-init=\"preview-tooltip\" href=\"/threads/yahallo.6472947/\" id=\"js-XFUniqueId42\">Yahallo!</a>\n",
       " </div>,\n",
       " <div class=\"structItem-title\">\n",
       " <a class=\"\" data-preview-url=\"/threads/bloody-buibui-just-now-on-mrt-tio-embarrassed-by-a-buibui-charbo.6570875/preview\" data-tp-primary=\"on\" data-xf-init=\"preview-tooltip\" href=\"/threads/bloody-buibui-just-now-on-mrt-tio-embarrassed-by-a-buibui-charbo.6570875/\" id=\"js-XFUniqueId48\">[BLOODY BUIBUI] Just now on MRT tio embarrassed by a buibui charbo ~</a>\n",
       " </div>,\n",
       " <div class=\"structItem-title\">\n",
       " <a class=\"\" data-preview-url=\"/threads/visits-to-all-hospital-wards-to-cease-for-2-weeks-amid-rise-in-covid-19-community-cases-moh.6570843/preview\" data-tp-primary=\"on\" data-xf-init=\"preview-tooltip\" href=\"/threads/visits-to-all-hospital-wards-to-cease-for-2-weeks-amid-rise-in-covid-19-community-cases-moh.6570843/\" id=\"js-XFUniqueId54\">Visits to all hospital wards to cease for 2 weeks amid rise in COVID-19 community cases: MOH</a>\n",
       " </div>,\n",
       " <div class=\"structItem-title\">\n",
       " <a class=\"\" data-preview-url=\"/threads/karen-being-sold-leftover-king-of-fried-rice-by-another-customer-expect-store-to-replace-new-one.6570452/preview\" data-tp-primary=\"on\" data-xf-init=\"preview-tooltip\" href=\"/threads/karen-being-sold-leftover-king-of-fried-rice-by-another-customer-expect-store-to-replace-new-one.6570452/\" id=\"js-XFUniqueId60\">Karen being sold leftover King of fried rice by another customer; expect store to replace new one</a>\n",
       " </div>,\n",
       " <div class=\"structItem-title\">\n",
       " <a class=\"\" data-preview-url=\"/threads/ura-sdo-scum-can-enter-residences-w-o-a-warrant.6570880/preview\" data-tp-primary=\"on\" data-xf-init=\"preview-tooltip\" href=\"/threads/ura-sdo-scum-can-enter-residences-w-o-a-warrant.6570880/\" id=\"js-XFUniqueId66\">URA : SDO scum can enter residences w/o a warrant</a>\n",
       " </div>,\n",
       " <div class=\"structItem-title\">\n",
       " <a class=\"\" data-preview-url=\"/threads/did-we-just-lose-all-the-hospitals-oyk-roadmap-to-endemic-living-is-like-that.6570836/preview\" data-tp-primary=\"on\" data-xf-init=\"preview-tooltip\" href=\"/threads/did-we-just-lose-all-the-hospitals-oyk-roadmap-to-endemic-living-is-like-that.6570836/\" id=\"js-XFUniqueId72\">Did we just lose all the hospitals? OYK roadmap to endemic living is like that?</a>\n",
       " </div>,\n",
       " <div class=\"structItem-title\">\n",
       " <a class=\"\" data-preview-url=\"/threads/serious-question-why-are-you-single.6569188/preview\" data-tp-primary=\"on\" data-xf-init=\"preview-tooltip\" href=\"/threads/serious-question-why-are-you-single.6569188/\" id=\"js-XFUniqueId78\">[Serious Question] Why are you single ??</a>\n",
       " </div>,\n",
       " <div class=\"structItem-title\">\n",
       " <a class=\"\" data-preview-url=\"/threads/phuket-tourists-are-totally-pwned.6570867/preview\" data-tp-primary=\"on\" data-xf-init=\"preview-tooltip\" href=\"/threads/phuket-tourists-are-totally-pwned.6570867/\" id=\"js-XFUniqueId84\">Phuket tourists are totally pwned</a>\n",
       " </div>,\n",
       " <div class=\"structItem-title\">\n",
       " <a class=\"\" data-preview-url=\"/threads/3-kumgong-lost-in-clementi-forest-spf-called-in.6570788/preview\" data-tp-primary=\"on\" data-xf-init=\"preview-tooltip\" href=\"/threads/3-kumgong-lost-in-clementi-forest-spf-called-in.6570788/\" id=\"js-XFUniqueId90\">3 kumgong lost in clementi forest, SPF called in</a>\n",
       " </div>,\n",
       " <div class=\"structItem-title\">\n",
       " <a class=\"\" data-preview-url=\"/threads/msia-boleh-najib-and-zahid-wanted-muhyiddin-to-interfere-and-waive-their-corruption-cases-in-court.6570794/preview\" data-tp-primary=\"on\" data-xf-init=\"preview-tooltip\" href=\"/threads/msia-boleh-najib-and-zahid-wanted-muhyiddin-to-interfere-and-waive-their-corruption-cases-in-court.6570794/\" id=\"js-XFUniqueId96\">M'sia Boleh: Najib and Zahid wanted Muhyiddin to interfere and waive their corruption cases in court</a>\n",
       " </div>,\n",
       " <div class=\"structItem-title\">\n",
       " <a class=\"\" data-preview-url=\"/threads/30s-50s-chitchat-club-part-66.6483530/preview\" data-tp-primary=\"on\" data-xf-init=\"preview-tooltip\" href=\"/threads/30s-50s-chitchat-club-part-66.6483530/\" id=\"js-XFUniqueId102\">30s-50s chitchat club   - Part 66</a>\n",
       " </div>,\n",
       " <div class=\"structItem-title\">\n",
       " <a class=\"\" data-preview-url=\"/threads/value-dollar-store-made-me-realised-how-overcharged-other-shops-are-part-2.6355899/preview\" data-tp-primary=\"on\" data-xf-init=\"preview-tooltip\" href=\"/threads/value-dollar-store-made-me-realised-how-overcharged-other-shops-are-part-2.6355899/\" id=\"js-XFUniqueId108\">Value dollar store made me realised how overcharged other shops are - Part 2</a>\n",
       " </div>,\n",
       " <div class=\"structItem-title\">\n",
       " <a class=\"\" data-preview-url=\"/threads/assuming-were-adopting-endemic-will-covid-infected-gets-repeated-sick-and-ill.6570840/preview\" data-tp-primary=\"on\" data-xf-init=\"preview-tooltip\" href=\"/threads/assuming-were-adopting-endemic-will-covid-infected-gets-repeated-sick-and-ill.6570840/\" id=\"js-XFUniqueId114\">Assuming we're adopting endemic - will Covid infected gets repeated sick and ill?</a>\n",
       " </div>,\n",
       " <div class=\"structItem-title\">\n",
       " <a class=\"\" data-preview-url=\"/threads/gvgt-hk-chiobu-bring-sinkie-bui-bui-husband-go-buy-holland-village-condo-kym.6570614/preview\" data-tp-primary=\"on\" data-xf-init=\"preview-tooltip\" href=\"/threads/gvgt-hk-chiobu-bring-sinkie-bui-bui-husband-go-buy-holland-village-condo-kym.6570614/\" id=\"js-XFUniqueId120\">GVGT. HK Chiobu bring Sinkie Bui Bui Husband go buy Holland Village condo. KYM?</a>\n",
       " </div>,\n",
       " <div class=\"structItem-title\">\n",
       " <a class=\"\" data-preview-url=\"/threads/tiong-movie-chinese-doctors-opens-tomorrow-in-singapore-cinemas-based-on-true-events-at-wuhan.6570870/preview\" data-tp-primary=\"on\" data-xf-init=\"preview-tooltip\" href=\"/threads/tiong-movie-chinese-doctors-opens-tomorrow-in-singapore-cinemas-based-on-true-events-at-wuhan.6570870/\" id=\"js-XFUniqueId126\">Tiong movie \"Chinese Doctors 中国医生\" opens tomorrow in Singapore cinemas based on true events at Wuhan</a>\n",
       " </div>]"
      ]
     },
     "execution_count": 9,
     "metadata": {},
     "output_type": "execute_result"
    }
   ],
   "source": [
    "ur"
   ]
  },
  {
   "cell_type": "code",
   "execution_count": 14,
   "id": "271a64cf",
   "metadata": {},
   "outputs": [
    {
     "name": "stdout",
     "output_type": "stream",
     "text": [
      "https://forums.hardwarezone.com.sg/threads/will-phase-2-be-extended.6570896/preview\n",
      "https://forums.hardwarezone.com.sg/threads/why-property-agent-always-say-buy-house-must-be-happy.6570899/preview\n",
      "https://forums.hardwarezone.com.sg/threads/pm-lees-national-day-message-to-be-broadcast-on-aug-8.6570901/preview\n",
      "https://forums.hardwarezone.com.sg/threads/royal-caribbean-quantum-of-the-seas.5941562/preview\n",
      "https://forums.hardwarezone.com.sg/threads/those-who-say-buy-rolex-or-expensive-accessories-for-what.6570866/preview\n",
      "https://forums.hardwarezone.com.sg/threads/yahallo.6472947/preview\n",
      "https://forums.hardwarezone.com.sg/threads/bloody-buibui-just-now-on-mrt-tio-embarrassed-by-a-buibui-charbo.6570875/preview\n",
      "https://forums.hardwarezone.com.sg/threads/visits-to-all-hospital-wards-to-cease-for-2-weeks-amid-rise-in-covid-19-community-cases-moh.6570843/preview\n",
      "https://forums.hardwarezone.com.sg/threads/karen-being-sold-leftover-king-of-fried-rice-by-another-customer-expect-store-to-replace-new-one.6570452/preview\n",
      "https://forums.hardwarezone.com.sg/threads/ura-sdo-scum-can-enter-residences-w-o-a-warrant.6570880/preview\n",
      "https://forums.hardwarezone.com.sg/threads/did-we-just-lose-all-the-hospitals-oyk-roadmap-to-endemic-living-is-like-that.6570836/preview\n",
      "https://forums.hardwarezone.com.sg/threads/serious-question-why-are-you-single.6569188/preview\n",
      "https://forums.hardwarezone.com.sg/threads/phuket-tourists-are-totally-pwned.6570867/preview\n",
      "https://forums.hardwarezone.com.sg/threads/3-kumgong-lost-in-clementi-forest-spf-called-in.6570788/preview\n",
      "https://forums.hardwarezone.com.sg/threads/msia-boleh-najib-and-zahid-wanted-muhyiddin-to-interfere-and-waive-their-corruption-cases-in-court.6570794/preview\n",
      "https://forums.hardwarezone.com.sg/threads/30s-50s-chitchat-club-part-66.6483530/preview\n",
      "https://forums.hardwarezone.com.sg/threads/value-dollar-store-made-me-realised-how-overcharged-other-shops-are-part-2.6355899/preview\n",
      "https://forums.hardwarezone.com.sg/threads/assuming-were-adopting-endemic-will-covid-infected-gets-repeated-sick-and-ill.6570840/preview\n",
      "https://forums.hardwarezone.com.sg/threads/gvgt-hk-chiobu-bring-sinkie-bui-bui-husband-go-buy-holland-village-condo-kym.6570614/preview\n",
      "https://forums.hardwarezone.com.sg/threads/tiong-movie-chinese-doctors-opens-tomorrow-in-singapore-cinemas-based-on-true-events-at-wuhan.6570870/preview\n"
     ]
    }
   ],
   "source": [
    "for u in ur:\n",
    "    print('https://forums.hardwarezone.com.sg'+u.find(\"a\")['data-preview-url'])"
   ]
  },
  {
   "cell_type": "code",
   "execution_count": 15,
   "id": "229eb99e",
   "metadata": {},
   "outputs": [],
   "source": [
    "d1=[]\n",
    "d2=[]\n",
    "d3=[]\n",
    "d4=[]\n",
    "d5=[]\n",
    "d6=[]\n",
    "d7=[]"
   ]
  },
  {
   "cell_type": "code",
   "execution_count": 16,
   "id": "bd16cfa5",
   "metadata": {},
   "outputs": [],
   "source": [
    "dd=pd.DataFrame()"
   ]
  },
  {
   "cell_type": "code",
   "execution_count": 22,
   "id": "8ade7141",
   "metadata": {},
   "outputs": [
    {
     "name": "stdout",
     "output_type": "stream",
     "text": [
      "https://forums.hardwarezone.com.sg/threads/will-phase-2-be-extended.6570896/preview\n"
     ]
    },
    {
     "ename": "NameError",
     "evalue": "name 'r' is not defined",
     "output_type": "error",
     "traceback": [
      "\u001b[1;31m---------------------------------------------------------------------------\u001b[0m",
      "\u001b[1;31mNameError\u001b[0m                                 Traceback (most recent call last)",
      "\u001b[1;32m<ipython-input-22-3452eaf24aac>\u001b[0m in \u001b[0;36m<module>\u001b[1;34m\u001b[0m\n\u001b[0;32m     13\u001b[0m     \u001b[0msoup\u001b[0m\u001b[1;33m=\u001b[0m\u001b[0mbs\u001b[0m\u001b[1;33m(\u001b[0m\u001b[0mcontent\u001b[0m\u001b[1;33m,\u001b[0m\u001b[1;34m'html.parser'\u001b[0m\u001b[1;33m)\u001b[0m\u001b[1;33m\u001b[0m\u001b[1;33m\u001b[0m\u001b[0m\n\u001b[0;32m     14\u001b[0m     \u001b[0mreview\u001b[0m \u001b[1;33m=\u001b[0m \u001b[0msoup\u001b[0m\u001b[1;33m.\u001b[0m\u001b[0mfind_all\u001b[0m\u001b[1;33m(\u001b[0m\u001b[1;34m'div'\u001b[0m\u001b[1;33m,\u001b[0m\u001b[0mclass_\u001b[0m\u001b[1;33m=\u001b[0m\u001b[1;34m'message-inner'\u001b[0m\u001b[1;33m)\u001b[0m\u001b[1;33m\u001b[0m\u001b[1;33m\u001b[0m\u001b[0m\n\u001b[1;32m---> 15\u001b[1;33m     \u001b[1;32mfor\u001b[0m \u001b[0mi\u001b[0m \u001b[1;32min\u001b[0m \u001b[0mr\u001b[0m\u001b[1;33m:\u001b[0m\u001b[1;33m\u001b[0m\u001b[1;33m\u001b[0m\u001b[0m\n\u001b[0m\u001b[0;32m     16\u001b[0m         \u001b[1;32mtry\u001b[0m\u001b[1;33m:\u001b[0m\u001b[1;33m\u001b[0m\u001b[1;33m\u001b[0m\u001b[0m\n\u001b[0;32m     17\u001b[0m             \u001b[0md1\u001b[0m\u001b[1;33m.\u001b[0m\u001b[0mappend\u001b[0m\u001b[1;33m(\u001b[0m\u001b[0mi\u001b[0m\u001b[1;33m.\u001b[0m\u001b[0mfind\u001b[0m\u001b[1;33m(\u001b[0m\u001b[1;34m'h4'\u001b[0m\u001b[1;33m,\u001b[0m \u001b[0mclass_\u001b[0m\u001b[1;33m=\u001b[0m\u001b[1;34m'message-name'\u001b[0m\u001b[1;33m)\u001b[0m\u001b[1;33m.\u001b[0m\u001b[0mtext\u001b[0m\u001b[1;33m)\u001b[0m\u001b[1;33m\u001b[0m\u001b[1;33m\u001b[0m\u001b[0m\n",
      "\u001b[1;31mNameError\u001b[0m: name 'r' is not defined"
     ]
    }
   ],
   "source": [
    "for u1 in ur:\n",
    "    url = 'https://forums.hardwarezone.com.sg'+u1.find(\"a\")['data-preview-url']\n",
    "    print(url)\n",
    "    d1=[]\n",
    "    d2=[]\n",
    "    d3=[]\n",
    "    d4=[]\n",
    "    d5=[]\n",
    "    d6=[]\n",
    "    d7=[]\n",
    "    driver.get(url)\n",
    "    content = driver.page_source\n",
    "    soup=bs(content,'html.parser')\n",
    "    review = soup.find_all('div',class_='message-inner')\n",
    "    for i in review:\n",
    "        try:\n",
    "            d1.append(i.find('h4', class_='message-name').text)\n",
    "        except:\n",
    "            d1.append(\"None\")\n",
    "        try:\n",
    "            d2.append(i.find('h5', class_='userTitle message-userTitle').text)\n",
    "        except:\n",
    "            d2.append(\"None\")\n",
    "        try:\n",
    "            d3.append(i.find('time', class_='u-dt').text)\n",
    "        except:\n",
    "            d3.append(\"None\")\n",
    "        try:\n",
    "            d4.append(i.find('div', class_='bbWrapper').text)\n",
    "        except:\n",
    "            d4.append(\"None\")\n",
    "        d5.append(u1)\n",
    "    df=pd.DataFrame({\"Name\":d1,\"Member\":d2,\"Time\":d3,\"Review\":d4,\"url\":d5})\n",
    "    df.to_excel(u1.split(\"/\")[-2]+\".xlsx\",engine='openpyxl')\n",
    "    dd=pd.concat([dd,df])"
   ]
  },
  {
   "cell_type": "code",
   "execution_count": null,
   "id": "96adaa1d",
   "metadata": {},
   "outputs": [],
   "source": []
  }
 ],
 "metadata": {
  "kernelspec": {
   "display_name": "Python 3",
   "language": "python",
   "name": "python3"
  },
  "language_info": {
   "codemirror_mode": {
    "name": "ipython",
    "version": 3
   },
   "file_extension": ".py",
   "mimetype": "text/x-python",
   "name": "python",
   "nbconvert_exporter": "python",
   "pygments_lexer": "ipython3",
   "version": "3.8.0"
  }
 },
 "nbformat": 4,
 "nbformat_minor": 5
}
